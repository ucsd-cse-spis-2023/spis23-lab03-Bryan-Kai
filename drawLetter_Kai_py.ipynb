{
  "nbformat": 4,
  "nbformat_minor": 0,
  "metadata": {
    "colab": {
      "provenance": [],
      "authorship_tag": "ABX9TyOproY4f+/tZG/P5EuKB3qa",
      "include_colab_link": true
    },
    "kernelspec": {
      "name": "python3",
      "display_name": "Python 3"
    },
    "language_info": {
      "name": "python"
    }
  },
  "cells": [
    {
      "cell_type": "markdown",
      "metadata": {
        "id": "view-in-github",
        "colab_type": "text"
      },
      "source": [
        "<a href=\"https://colab.research.google.com/github/ucsd-cse-spis-2023/spis23-lab03-Bryan-Kai/blob/master/drawLetter_Kai_py.ipynb\" target=\"_parent\"><img src=\"https://colab.research.google.com/assets/colab-badge.svg\" alt=\"Open In Colab\"/></a>"
      ]
    },
    {
      "cell_type": "code",
      "source": [
        "!pip install ColabTurtlePlus"
      ],
      "metadata": {
        "colab": {
          "base_uri": "https://localhost:8080/"
        },
        "id": "L7JjXyuCkPE8",
        "outputId": "bdd5eddd-4eba-4bae-8fb9-c5d4075aaa34"
      },
      "execution_count": 4,
      "outputs": [
        {
          "output_type": "stream",
          "name": "stdout",
          "text": [
            "Collecting ColabTurtlePlus\n",
            "  Downloading ColabTurtlePlus-2.0.1-py3-none-any.whl (31 kB)\n",
            "Installing collected packages: ColabTurtlePlus\n",
            "Successfully installed ColabTurtlePlus-2.0.1\n"
          ]
        }
      ]
    },
    {
      "cell_type": "code",
      "source": [
        "from ColabTurtlePlus.Turtle import *"
      ],
      "metadata": {
        "colab": {
          "base_uri": "https://localhost:8080/"
        },
        "id": "_826a-9hkSFT",
        "outputId": "ead03679-5d85-4049-bd67-64b75cdc8d4c"
      },
      "execution_count": 5,
      "outputs": [
        {
          "output_type": "stream",
          "name": "stdout",
          "text": [
            "Put clearscreen() as the first line in a cell (after the import command) to re-run turtle commands in the cell\n"
          ]
        }
      ]
    },
    {
      "cell_type": "code",
      "execution_count": 13,
      "metadata": {
        "colab": {
          "base_uri": "https://localhost:8080/",
          "height": 621
        },
        "id": "ef0an9jJh7pP",
        "outputId": "a8e3bc38-674b-478d-9ba1-0c82b5b3f8fb"
      },
      "outputs": [
        {
          "output_type": "display_data",
          "data": {
            "text/plain": [
              "<IPython.core.display.HTML object>"
            ],
            "text/html": [
              "\n",
              "      <svg width=\"800\" height=\"600\">  \n",
              "        <rect width=\"100%\" height=\"100%\" style=\"fill:white;stroke:;stroke-width:1\"/>\n",
              "        \n",
              "        \n",
              "        <line x1=\"400.0\" y1=\"300.0\" x2=\"400.0\" y2=\"400.0\" stroke-linecap=\"round\" style=\"stroke:black;stroke-width:1\" /><line x1=\"400.0\" y1=\"400.0\" x2=\"400.0\" y2=\"350.0\" stroke-linecap=\"round\" style=\"stroke:black;stroke-width:1\" /><line x1=\"400.0\" y1=\"350.0\" x2=\"449.497\" y2=\"399.497\" stroke-linecap=\"round\" style=\"stroke:black;stroke-width:1\" /><line x1=\"449.497\" y1=\"399.497\" x2=\"400.0\" y2=\"350.0\" stroke-linecap=\"round\" style=\"stroke:black;stroke-width:1\" /><line x1=\"400.0\" y1=\"350.0\" x2=\"449.497\" y2=\"300.503\" stroke-linecap=\"round\" style=\"stroke:black;stroke-width:1\" /><line x1=\"449.497\" y1=\"300.503\" x2=\"400.0\" y2=\"350.0\" stroke-linecap=\"round\" style=\"stroke:black;stroke-width:1\" /><line x1=\"400.0\" y1=\"350.0\" x2=\"400.0\" y2=\"340.0\" stroke-linecap=\"round\" style=\"stroke:black;stroke-width:1\" /><line x1=\"400.0\" y1=\"340.0\" x2=\"400.0\" y2=\"330.0\" stroke-linecap=\"round\" style=\"stroke:black;stroke-width:1\" /><line x1=\"400.0\" y1=\"330.0\" x2=\"400.0\" y2=\"320.0\" stroke-linecap=\"round\" style=\"stroke:black;stroke-width:1\" /><line x1=\"400.0\" y1=\"320.0\" x2=\"400.0\" y2=\"310.0\" stroke-linecap=\"round\" style=\"stroke:black;stroke-width:1\" /><line x1=\"400.0\" y1=\"310.0\" x2=\"400.0\" y2=\"300.0\" stroke-linecap=\"round\" style=\"stroke:black;stroke-width:1\" />\n",
              "        \n",
              "        \n",
              "        <g id=\"classic\" visibility=\"visible\" transform=\"rotate(180,400.0,300.0) translate(400.0, 300.0)\">\n",
              "<polygon points=\"-5,-4.5 0,-2.5 5,-4.5 0,4.5\" transform=\"skewX(0) scale(1,1)\" style=\"stroke:black;fill:black;stroke-width:1\" />\n",
              "</g>\n",
              "      </svg>\n",
              "    "
            ]
          },
          "metadata": {}
        }
      ],
      "source": [
        "# part 1.2\n",
        "clearscreen()\n",
        "\n",
        "def draw_K(the_turtle):\n",
        "  my_turtle.right(90)\n",
        "  my_turtle.forward(100)\n",
        "  my_turtle.backward(50)\n",
        "  my_turtle.left(45)\n",
        "  my_turtle.forward(70)\n",
        "  my_turtle.backward(70)\n",
        "  my_turtle.left(90)\n",
        "  my_turtle.forward(70)\n",
        "  my_turtle.backward(70)\n",
        "  my_turtle.left(45)\n",
        "  my_turtle.forward(50)\n",
        "\n",
        "\n",
        "my_turtle = Turtle()\n",
        "\n",
        "my_turtle.speed(5)\n",
        "\n",
        "draw_K(my_turtle)"
      ]
    }
  ]
}