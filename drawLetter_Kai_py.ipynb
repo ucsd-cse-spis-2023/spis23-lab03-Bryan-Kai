{
  "nbformat": 4,
  "nbformat_minor": 0,
  "metadata": {
    "colab": {
      "provenance": [],
      "authorship_tag": "ABX9TyN4DNs4VuVuUGi3ZHowTjOS",
      "include_colab_link": true
    },
    "kernelspec": {
      "name": "python3",
      "display_name": "Python 3"
    },
    "language_info": {
      "name": "python"
    }
  },
  "cells": [
    {
      "cell_type": "markdown",
      "metadata": {
        "id": "view-in-github",
        "colab_type": "text"
      },
      "source": [
        "<a href=\"https://colab.research.google.com/github/ucsd-cse-spis-2023/spis23-lab03-Bryan-Kai/blob/master/drawLetter_Kai_py.ipynb\" target=\"_parent\"><img src=\"https://colab.research.google.com/assets/colab-badge.svg\" alt=\"Open In Colab\"/></a>"
      ]
    },
    {
      "cell_type": "code",
      "source": [
        "!pip install ColabTurtlePlus"
      ],
      "metadata": {
        "colab": {
          "base_uri": "https://localhost:8080/"
        },
        "id": "L7JjXyuCkPE8",
        "outputId": "bdd5eddd-4eba-4bae-8fb9-c5d4075aaa34"
      },
      "execution_count": 4,
      "outputs": [
        {
          "output_type": "stream",
          "name": "stdout",
          "text": [
            "Collecting ColabTurtlePlus\n",
            "  Downloading ColabTurtlePlus-2.0.1-py3-none-any.whl (31 kB)\n",
            "Installing collected packages: ColabTurtlePlus\n",
            "Successfully installed ColabTurtlePlus-2.0.1\n"
          ]
        }
      ]
    },
    {
      "cell_type": "code",
      "source": [
        "from ColabTurtlePlus.Turtle import *"
      ],
      "metadata": {
        "colab": {
          "base_uri": "https://localhost:8080/"
        },
        "id": "_826a-9hkSFT",
        "outputId": "ead03679-5d85-4049-bd67-64b75cdc8d4c"
      },
      "execution_count": 5,
      "outputs": [
        {
          "output_type": "stream",
          "name": "stdout",
          "text": [
            "Put clearscreen() as the first line in a cell (after the import command) to re-run turtle commands in the cell\n"
          ]
        }
      ]
    },
    {
      "cell_type": "code",
      "execution_count": 15,
      "metadata": {
        "colab": {
          "base_uri": "https://localhost:8080/",
          "height": 1000
        },
        "id": "ef0an9jJh7pP",
        "outputId": "acfa7953-a518-47c4-a60c-271360ac8d30"
      },
      "outputs": [
        {
          "output_type": "display_data",
          "data": {
            "text/plain": [
              "<IPython.core.display.HTML object>"
            ],
            "text/html": [
              "\n",
              "      <svg width=\"800\" height=\"600\">  \n",
              "        <rect width=\"100%\" height=\"100%\" style=\"fill:white;stroke:;stroke-width:1\"/>\n",
              "        \n",
              "        \n",
              "        \n",
              "        \n",
              "        \n",
              "        <g id=\"classic\" visibility=\"visible\" transform=\"rotate(-90,400.0,300.0) translate(400.0, 300.0)\">\n",
              "<polygon points=\"-5,-4.5 0,-2.5 5,-4.5 0,4.5\" transform=\"skewX(0) scale(1,1)\" style=\"stroke:black;fill:black;stroke-width:1\" />\n",
              "</g><g id=\"classic\" visibility=\"visible\" transform=\"rotate(-90.0,500.0,300.0) translate(500.0, 300.0)\">\n",
              "<polygon points=\"-5,-4.5 0,-2.5 5,-4.5 0,4.5\" transform=\"skewX(0) scale(1,1)\" style=\"stroke:black;fill:black;stroke-width:1\" />\n",
              "</g>\n",
              "      </svg>\n",
              "    "
            ]
          },
          "metadata": {}
        },
        {
          "output_type": "display_data",
          "data": {
            "text/plain": [
              "<IPython.core.display.HTML object>"
            ],
            "text/html": [
              "\n",
              "      <svg width=\"800\" height=\"600\">  \n",
              "        <rect width=\"100%\" height=\"100%\" style=\"fill:white;stroke:;stroke-width:1\"/>\n",
              "        \n",
              "        \n",
              "        \n",
              "        \n",
              "        \n",
              "        \n",
              "      </svg>\n",
              "    "
            ]
          },
          "metadata": {}
        }
      ],
      "source": [
        "# part 1.2\n",
        "clearscreen()\n",
        "\n",
        "# creating function\n",
        "def draw_K(the_turtle):\n",
        "  my_turtle.right(90)\n",
        "  my_turtle.forward(100)\n",
        "  my_turtle.backward(50)\n",
        "  my_turtle.left(45)\n",
        "  my_turtle.forward(70)\n",
        "  my_turtle.backward(70)\n",
        "  my_turtle.left(90)\n",
        "  my_turtle.forward(70)\n",
        "  my_turtle.backward(70)\n",
        "  my_turtle.left(45)\n",
        "  my_turtle.forward(50)\n",
        "\n",
        "# spawning turtles\n",
        "my_turtle1 = Turtle()\n",
        "my_turtle2 = Turtle()\n",
        "\n",
        "# moving turtle 2\n",
        "my_turtle2.penup()\n",
        "my_turtle2.goto(100, 0)\n",
        "\n",
        "my_turtle2.pendown()\n",
        "my_turtle2.speed(5)\n",
        "draw_K(my_turtle2)\n",
        "\n",
        "\n",
        "my_turtle1.speed(5)\n",
        "draw_K(my_turtle1)"
      ]
    }
  ]
}