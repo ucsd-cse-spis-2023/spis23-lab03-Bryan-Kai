{
  "nbformat": 4,
  "nbformat_minor": 0,
  "metadata": {
    "colab": {
      "provenance": [],
      "authorship_tag": "ABX9TyP0QuvmzR29vFblCwGEBGph",
      "include_colab_link": true
    },
    "kernelspec": {
      "name": "python3",
      "display_name": "Python 3"
    },
    "language_info": {
      "name": "python"
    }
  },
  "cells": [
    {
      "cell_type": "markdown",
      "metadata": {
        "id": "view-in-github",
        "colab_type": "text"
      },
      "source": [
        "<a href=\"https://colab.research.google.com/github/ucsd-cse-spis-2023/spis23-lab03-Bryan-Kai/blob/master/drawLetter_Kai_py.ipynb\" target=\"_parent\"><img src=\"https://colab.research.google.com/assets/colab-badge.svg\" alt=\"Open In Colab\"/></a>"
      ]
    },
    {
      "cell_type": "code",
      "source": [
        "!pip install ColabTurtlePlus"
      ],
      "metadata": {
        "colab": {
          "base_uri": "https://localhost:8080/"
        },
        "id": "L7JjXyuCkPE8",
        "outputId": "98f5c4a9-1053-447f-ca75-07655a7e6cd7"
      },
      "execution_count": 3,
      "outputs": [
        {
          "output_type": "stream",
          "name": "stdout",
          "text": [
            "Collecting ColabTurtlePlus\n",
            "  Downloading ColabTurtlePlus-2.0.1-py3-none-any.whl (31 kB)\n",
            "Installing collected packages: ColabTurtlePlus\n",
            "Successfully installed ColabTurtlePlus-2.0.1\n"
          ]
        }
      ]
    },
    {
      "cell_type": "code",
      "source": [
        "from ColabTurtlePlus.Turtle import *"
      ],
      "metadata": {
        "colab": {
          "base_uri": "https://localhost:8080/"
        },
        "id": "_826a-9hkSFT",
        "outputId": "8f71c25d-64d6-4840-a8be-8c9c0e0d9260"
      },
      "execution_count": 4,
      "outputs": [
        {
          "output_type": "stream",
          "name": "stdout",
          "text": [
            "Put clearscreen() as the first line in a cell (after the import command) to re-run turtle commands in the cell\n"
          ]
        }
      ]
    },
    {
      "cell_type": "code",
      "execution_count": 18,
      "metadata": {
        "colab": {
          "base_uri": "https://localhost:8080/",
          "height": 621
        },
        "id": "ef0an9jJh7pP",
        "outputId": "52605ede-4f81-4d2d-965f-186d5d9185f1"
      },
      "outputs": [
        {
          "output_type": "display_data",
          "data": {
            "text/plain": [
              "<IPython.core.display.HTML object>"
            ],
            "text/html": [
              "\n",
              "      <svg width=\"800\" height=\"600\">  \n",
              "        <rect width=\"100%\" height=\"100%\" style=\"fill:white;stroke:;stroke-width:1\"/>\n",
              "        \n",
              "        \n",
              "        <line x1=\"400.0\" y1=\"300.0\" x2=\"400.0\" y2=\"400.0\" stroke-linecap=\"round\" style=\"stroke:black;stroke-width:1\" /><line x1=\"400.0\" y1=\"400.0\" x2=\"400.0\" y2=\"350.0\" stroke-linecap=\"round\" style=\"stroke:black;stroke-width:1\" /><line x1=\"400.0\" y1=\"350.0\" x2=\"449.497\" y2=\"399.497\" stroke-linecap=\"round\" style=\"stroke:black;stroke-width:1\" /><line x1=\"449.497\" y1=\"399.497\" x2=\"400.0\" y2=\"350.0\" stroke-linecap=\"round\" style=\"stroke:black;stroke-width:1\" /><line x1=\"400.0\" y1=\"350.0\" x2=\"449.497\" y2=\"300.503\" stroke-linecap=\"round\" style=\"stroke:black;stroke-width:1\" /><line x1=\"449.497\" y1=\"300.503\" x2=\"400.0\" y2=\"350.0\" stroke-linecap=\"round\" style=\"stroke:black;stroke-width:1\" /><line x1=\"400.0\" y1=\"350.0\" x2=\"400.0\" y2=\"340.0\" stroke-linecap=\"round\" style=\"stroke:black;stroke-width:1\" /><line x1=\"400.0\" y1=\"340.0\" x2=\"400.0\" y2=\"330.0\" stroke-linecap=\"round\" style=\"stroke:black;stroke-width:1\" /><line x1=\"400.0\" y1=\"330.0\" x2=\"400.0\" y2=\"320.0\" stroke-linecap=\"round\" style=\"stroke:black;stroke-width:1\" /><line x1=\"400.0\" y1=\"320.0\" x2=\"400.0\" y2=\"310.0\" stroke-linecap=\"round\" style=\"stroke:black;stroke-width:1\" /><line x1=\"400.0\" y1=\"310.0\" x2=\"400.0\" y2=\"300.0\" stroke-linecap=\"round\" style=\"stroke:black;stroke-width:1\" />\n",
              "        \n",
              "        \n",
              "        <g id=\"classic\" visibility=\"visible\" transform=\"rotate(180,400.0,300.0) translate(400.0, 300.0)\">\n",
              "<polygon points=\"-5,-4.5 0,-2.5 5,-4.5 0,4.5\" transform=\"skewX(0) scale(1,1)\" style=\"stroke:black;fill:black;stroke-width:1\" />\n",
              "</g>\n",
              "      </svg>\n",
              "    "
            ]
          },
          "metadata": {}
        }
      ],
      "source": [
        "# part 1.2\n",
        "clearscreen()\n",
        "\n",
        "# creating function\n",
        "def draw_K(my_turtle):\n",
        "  my_turtle.right(90)\n",
        "  my_turtle.forward(100)\n",
        "  my_turtle.backward(50)\n",
        "  my_turtle.left(45)\n",
        "  my_turtle.forward(70)\n",
        "  my_turtle.backward(70)\n",
        "  my_turtle.left(90)\n",
        "  my_turtle.forward(70)\n",
        "  my_turtle.backward(70)\n",
        "  my_turtle.left(45)\n",
        "  my_turtle.forward(50)\n",
        "\n",
        "# spawning turtle\n",
        "my_turtle = Turtle()\n",
        "\n",
        "# turtle1 movement\n",
        "my_turtle.speed(5)\n",
        "draw_K(my_turtle)\n",
        "\n"
      ]
    },
    {
      "cell_type": "code",
      "execution_count": 17,
      "metadata": {
        "colab": {
          "base_uri": "https://localhost:8080/",
          "height": 621
        },
        "outputId": "3ca17db5-e116-4fd3-fda7-0c58b8d3e0e9",
        "id": "8mrKSTRRuKqF"
      },
      "outputs": [
        {
          "output_type": "display_data",
          "data": {
            "text/plain": [
              "<IPython.core.display.HTML object>"
            ],
            "text/html": [
              "\n",
              "      <svg width=\"800\" height=\"600\">  \n",
              "        <rect width=\"100%\" height=\"100%\" style=\"fill:white;stroke:;stroke-width:1\"/>\n",
              "        \n",
              "        \n",
              "        <line x1=\"400.0\" y1=\"300.0\" x2=\"400.0\" y2=\"400.0\" stroke-linecap=\"round\" style=\"stroke:black;stroke-width:1\" /><line x1=\"400.0\" y1=\"400.0\" x2=\"400.0\" y2=\"350.0\" stroke-linecap=\"round\" style=\"stroke:black;stroke-width:1\" /><line x1=\"400.0\" y1=\"350.0\" x2=\"449.497\" y2=\"399.497\" stroke-linecap=\"round\" style=\"stroke:black;stroke-width:1\" /><line x1=\"449.497\" y1=\"399.497\" x2=\"400.0\" y2=\"350.0\" stroke-linecap=\"round\" style=\"stroke:black;stroke-width:1\" /><line x1=\"400.0\" y1=\"350.0\" x2=\"449.497\" y2=\"300.503\" stroke-linecap=\"round\" style=\"stroke:black;stroke-width:1\" /><line x1=\"449.497\" y1=\"300.503\" x2=\"400.0\" y2=\"350.0\" stroke-linecap=\"round\" style=\"stroke:black;stroke-width:1\" /><line x1=\"400.0\" y1=\"350.0\" x2=\"400.0\" y2=\"300.0\" stroke-linecap=\"round\" style=\"stroke:black;stroke-width:1\" /><line x1=\"600.0\" y1=\"300.0\" x2=\"600.0\" y2=\"400.0\" stroke-linecap=\"round\" style=\"stroke:black;stroke-width:1\" /><line x1=\"600.0\" y1=\"400.0\" x2=\"600.0\" y2=\"350.0\" stroke-linecap=\"round\" style=\"stroke:black;stroke-width:1\" /><line x1=\"600.0\" y1=\"350.0\" x2=\"649.497\" y2=\"399.497\" stroke-linecap=\"round\" style=\"stroke:black;stroke-width:1\" /><line x1=\"649.497\" y1=\"399.497\" x2=\"600.0\" y2=\"350.0\" stroke-linecap=\"round\" style=\"stroke:black;stroke-width:1\" /><line x1=\"600.0\" y1=\"350.0\" x2=\"649.497\" y2=\"300.503\" stroke-linecap=\"round\" style=\"stroke:black;stroke-width:1\" /><line x1=\"649.497\" y1=\"300.503\" x2=\"600.0\" y2=\"350.0\" stroke-linecap=\"round\" style=\"stroke:black;stroke-width:1\" /><line x1=\"600.0\" y1=\"350.0\" x2=\"600.0\" y2=\"340.0\" stroke-linecap=\"round\" style=\"stroke:black;stroke-width:1\" /><line x1=\"600.0\" y1=\"340.0\" x2=\"600.0\" y2=\"330.0\" stroke-linecap=\"round\" style=\"stroke:black;stroke-width:1\" /><line x1=\"600.0\" y1=\"330.0\" x2=\"600.0\" y2=\"320.0\" stroke-linecap=\"round\" style=\"stroke:black;stroke-width:1\" /><line x1=\"600.0\" y1=\"320.0\" x2=\"600.0\" y2=\"310.0\" stroke-linecap=\"round\" style=\"stroke:black;stroke-width:1\" /><line x1=\"600.0\" y1=\"310.0\" x2=\"600.0\" y2=\"300.0\" stroke-linecap=\"round\" style=\"stroke:black;stroke-width:1\" />\n",
              "        \n",
              "        \n",
              "        <g id=\"classic\" visibility=\"visible\" transform=\"rotate(180,400.0,300.0) translate(400.0, 300.0)\">\n",
              "<polygon points=\"-5,-4.5 0,-2.5 5,-4.5 0,4.5\" transform=\"skewX(0) scale(1,1)\" style=\"stroke:black;fill:black;stroke-width:1\" />\n",
              "</g><g id=\"classic\" visibility=\"visible\" transform=\"rotate(180,600.0,300.0) translate(600.0, 300.0)\">\n",
              "<polygon points=\"-5,-4.5 0,-2.5 5,-4.5 0,4.5\" transform=\"skewX(0) scale(1,1)\" style=\"stroke:black;fill:black;stroke-width:1\" />\n",
              "</g>\n",
              "      </svg>\n",
              "    "
            ]
          },
          "metadata": {}
        }
      ],
      "source": [
        "# part 1.2 complete\n",
        "clearscreen()\n",
        "\n",
        "# creating function\n",
        "def draw_K(my_turtle):\n",
        "  my_turtle.right(90)\n",
        "  my_turtle.forward(100)\n",
        "  my_turtle.backward(50)\n",
        "  my_turtle.left(45)\n",
        "  my_turtle.forward(70)\n",
        "  my_turtle.backward(70)\n",
        "  my_turtle.left(90)\n",
        "  my_turtle.forward(70)\n",
        "  my_turtle.backward(70)\n",
        "  my_turtle.left(45)\n",
        "  my_turtle.forward(50)\n",
        "\n",
        "# spawning turtle\n",
        "my_turtle1 = Turtle()\n",
        "my_turtle2 = Turtle()\n",
        "\n",
        "# turtle1 movement\n",
        "my_turtle1.speed(5)\n",
        "draw_K(my_turtle1)\n",
        "\n",
        "# turtle2 movement\n",
        "my_turtle2.penup()\n",
        "my_turtle2.goto(200,0)\n",
        "my_turtle2.pendown()\n",
        "my_turtle2.speed(5)\n",
        "draw_K(my_turtle2)"
      ]
    }
  ]
}