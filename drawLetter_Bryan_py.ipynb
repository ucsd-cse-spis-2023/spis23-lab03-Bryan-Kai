{
  "nbformat": 4,
  "nbformat_minor": 0,
  "metadata": {
    "colab": {
      "provenance": [],
      "authorship_tag": "ABX9TyMdirGIC/OctGDOjVgdZK0z",
      "include_colab_link": true
    },
    "kernelspec": {
      "name": "python3",
      "display_name": "Python 3"
    },
    "language_info": {
      "name": "python"
    }
  },
  "cells": [
    {
      "cell_type": "markdown",
      "metadata": {
        "id": "view-in-github",
        "colab_type": "text"
      },
      "source": [
        "<a href=\"https://colab.research.google.com/github/ucsd-cse-spis-2023/spis23-lab03-Bryan-Kai/blob/master/drawLetter_Bryan_py.ipynb\" target=\"_parent\"><img src=\"https://colab.research.google.com/assets/colab-badge.svg\" alt=\"Open In Colab\"/></a>"
      ]
    },
    {
      "cell_type": "code",
      "execution_count": null,
      "metadata": {
        "colab": {
          "base_uri": "https://localhost:8080/"
        },
        "id": "k3OsXyvHkblf",
        "outputId": "7f4b2040-551a-44b7-b456-a814950f9b0a"
      },
      "outputs": [
        {
          "output_type": "stream",
          "name": "stdout",
          "text": [
            "Collecting ColabTurtlePlus\n",
            "  Using cached ColabTurtlePlus-2.0.1-py3-none-any.whl (31 kB)\n",
            "Installing collected packages: ColabTurtlePlus\n",
            "Successfully installed ColabTurtlePlus-2.0.1\n"
          ]
        }
      ],
      "source": [
        "!pip install ColabTurtlePlus"
      ]
    },
    {
      "cell_type": "code",
      "source": [
        "from ColabTurtlePlus.Turtle import *"
      ],
      "metadata": {
        "colab": {
          "base_uri": "https://localhost:8080/"
        },
        "id": "HzrNVbmbk6q5",
        "outputId": "f2835bf1-e990-4463-d0fe-c93dfbc7a9a9"
      },
      "execution_count": null,
      "outputs": [
        {
          "output_type": "stream",
          "name": "stdout",
          "text": [
            "Put clearscreen() as the first line in a cell (after the import command) to re-run turtle commands in the cell\n"
          ]
        }
      ]
    },
    {
      "cell_type": "code",
      "source": [
        "clearscreen()\n",
        "\n",
        "def draw_picture(the_turtle):\n",
        "\n",
        "    ''' Draw a simple picture using a turtle '''\n",
        "\n",
        "    the_turtle.forward(50)\n",
        "\n",
        "    the_turtle.left(315)\n",
        "\n",
        "    the_turtle.forward(50)\n",
        "\n",
        "    the_turtle.left(270)\n",
        "\n",
        "    the_turtle.forward(50)\n",
        "\n",
        "    the_turtle.left(315)\n",
        "\n",
        "    the_turtle.forward(50)\n",
        "\n",
        "    the_turtle.left(180)\n",
        "\n",
        "    the_turtle.forward(60)\n",
        "\n",
        "    the_turtle.left(315)\n",
        "\n",
        "    the_turtle.forward(55)\n",
        "\n",
        "    the_turtle.left(270)\n",
        "\n",
        "    the_turtle.forward(55)\n",
        "\n",
        "    the_turtle.left(315)\n",
        "\n",
        "    the_turtle.forward(60)\n",
        "\n",
        "    the_turtle.left(270)\n",
        "\n",
        "    the_turtle.forward(150)\n",
        "\n",
        "\n",
        "the_turtle = Turtle()      # Create a new Turtle object\n",
        "the_turtle2 = Turtle()\n",
        "the_turtle.speed(5)\n",
        "draw_picture(the_turtle)\n",
        "\n",
        "the_turtle2.penup()\n",
        "the_turtle2.goto(200,0)\n",
        "the_turtle2.pendown()\n",
        "the_turtle2.speed(5)\n",
        "draw_picture(the_turtle2)\n",
        "\n"
      ],
      "metadata": {
        "colab": {
          "base_uri": "https://localhost:8080/",
          "height": 621
        },
        "id": "B1RieDMHk9lk",
        "outputId": "f390dba3-03a5-4189-a5e2-39cc3f22a52b"
      },
      "execution_count": 11,
      "outputs": [
        {
          "output_type": "display_data",
          "data": {
            "text/plain": [
              "<IPython.core.display.HTML object>"
            ],
            "text/html": [
              "\n",
              "      <svg width=\"800\" height=\"600\">  \n",
              "        <rect width=\"100%\" height=\"100%\" style=\"fill:white;stroke:;stroke-width:1\"/>\n",
              "        \n",
              "        \n",
              "        <line x1=\"400.0\" y1=\"300.0\" x2=\"450.0\" y2=\"300.0\" stroke-linecap=\"round\" style=\"stroke:black;stroke-width:1\" /><line x1=\"450.0\" y1=\"300.0\" x2=\"485.355\" y2=\"335.355\" stroke-linecap=\"round\" style=\"stroke:black;stroke-width:1\" /><line x1=\"485.355\" y1=\"335.355\" x2=\"450.0\" y2=\"370.71\" stroke-linecap=\"round\" style=\"stroke:black;stroke-width:1\" /><line x1=\"450.0\" y1=\"370.71\" x2=\"400.0\" y2=\"370.71\" stroke-linecap=\"round\" style=\"stroke:black;stroke-width:1\" /><line x1=\"400.0\" y1=\"370.71\" x2=\"460.0\" y2=\"370.71\" stroke-linecap=\"round\" style=\"stroke:black;stroke-width:1\" /><line x1=\"460.0\" y1=\"370.71\" x2=\"498.891\" y2=\"409.601\" stroke-linecap=\"round\" style=\"stroke:black;stroke-width:1\" /><line x1=\"498.891\" y1=\"409.601\" x2=\"460.0\" y2=\"448.492\" stroke-linecap=\"round\" style=\"stroke:black;stroke-width:1\" /><line x1=\"460.0\" y1=\"448.492\" x2=\"400.0\" y2=\"448.492\" stroke-linecap=\"round\" style=\"stroke:black;stroke-width:1\" /><line x1=\"400.0\" y1=\"448.492\" x2=\"400.0\" y2=\"298.492\" stroke-linecap=\"round\" style=\"stroke:black;stroke-width:1\" /><line x1=\"600.0\" y1=\"300.0\" x2=\"650.0\" y2=\"300.0\" stroke-linecap=\"round\" style=\"stroke:black;stroke-width:1\" /><line x1=\"650.0\" y1=\"300.0\" x2=\"685.355\" y2=\"335.355\" stroke-linecap=\"round\" style=\"stroke:black;stroke-width:1\" /><line x1=\"685.355\" y1=\"335.355\" x2=\"650.0\" y2=\"370.71\" stroke-linecap=\"round\" style=\"stroke:black;stroke-width:1\" /><line x1=\"650.0\" y1=\"370.71\" x2=\"600.0\" y2=\"370.71\" stroke-linecap=\"round\" style=\"stroke:black;stroke-width:1\" /><line x1=\"600.0\" y1=\"370.71\" x2=\"660.0\" y2=\"370.71\" stroke-linecap=\"round\" style=\"stroke:black;stroke-width:1\" /><line x1=\"660.0\" y1=\"370.71\" x2=\"698.891\" y2=\"409.601\" stroke-linecap=\"round\" style=\"stroke:black;stroke-width:1\" /><line x1=\"698.891\" y1=\"409.601\" x2=\"660.0\" y2=\"448.492\" stroke-linecap=\"round\" style=\"stroke:black;stroke-width:1\" /><line x1=\"660.0\" y1=\"448.492\" x2=\"600.0\" y2=\"448.492\" stroke-linecap=\"round\" style=\"stroke:black;stroke-width:1\" /><line x1=\"600.0\" y1=\"448.492\" x2=\"600.0\" y2=\"438.492\" stroke-linecap=\"round\" style=\"stroke:black;stroke-width:1\" /><line x1=\"600.0\" y1=\"438.492\" x2=\"600.0\" y2=\"428.492\" stroke-linecap=\"round\" style=\"stroke:black;stroke-width:1\" /><line x1=\"600.0\" y1=\"428.492\" x2=\"600.0\" y2=\"418.492\" stroke-linecap=\"round\" style=\"stroke:black;stroke-width:1\" /><line x1=\"600.0\" y1=\"418.492\" x2=\"600.0\" y2=\"408.492\" stroke-linecap=\"round\" style=\"stroke:black;stroke-width:1\" /><line x1=\"600.0\" y1=\"408.492\" x2=\"600.0\" y2=\"398.492\" stroke-linecap=\"round\" style=\"stroke:black;stroke-width:1\" /><line x1=\"600.0\" y1=\"398.492\" x2=\"600.0\" y2=\"388.492\" stroke-linecap=\"round\" style=\"stroke:black;stroke-width:1\" /><line x1=\"600.0\" y1=\"388.492\" x2=\"600.0\" y2=\"378.492\" stroke-linecap=\"round\" style=\"stroke:black;stroke-width:1\" /><line x1=\"600.0\" y1=\"378.492\" x2=\"600.0\" y2=\"368.492\" stroke-linecap=\"round\" style=\"stroke:black;stroke-width:1\" /><line x1=\"600.0\" y1=\"368.492\" x2=\"600.0\" y2=\"358.492\" stroke-linecap=\"round\" style=\"stroke:black;stroke-width:1\" /><line x1=\"600.0\" y1=\"358.492\" x2=\"600.0\" y2=\"348.492\" stroke-linecap=\"round\" style=\"stroke:black;stroke-width:1\" /><line x1=\"600.0\" y1=\"348.492\" x2=\"600.0\" y2=\"338.492\" stroke-linecap=\"round\" style=\"stroke:black;stroke-width:1\" /><line x1=\"600.0\" y1=\"338.492\" x2=\"600.0\" y2=\"328.492\" stroke-linecap=\"round\" style=\"stroke:black;stroke-width:1\" /><line x1=\"600.0\" y1=\"328.492\" x2=\"600.0\" y2=\"318.492\" stroke-linecap=\"round\" style=\"stroke:black;stroke-width:1\" /><line x1=\"600.0\" y1=\"318.492\" x2=\"600.0\" y2=\"308.492\" stroke-linecap=\"round\" style=\"stroke:black;stroke-width:1\" /><line x1=\"600.0\" y1=\"308.492\" x2=\"600.0\" y2=\"298.492\" stroke-linecap=\"round\" style=\"stroke:black;stroke-width:1\" />\n",
              "        \n",
              "        \n",
              "        <g id=\"classic\" visibility=\"visible\" transform=\"rotate(180,400.0,298.492) translate(400.0, 298.492)\">\n",
              "<polygon points=\"-5,-4.5 0,-2.5 5,-4.5 0,4.5\" transform=\"skewX(0) scale(1,1)\" style=\"stroke:black;fill:black;stroke-width:1\" />\n",
              "</g><g id=\"classic\" visibility=\"visible\" transform=\"rotate(180,600.0,298.492) translate(600.0, 298.492)\">\n",
              "<polygon points=\"-5,-4.5 0,-2.5 5,-4.5 0,4.5\" transform=\"skewX(0) scale(1,1)\" style=\"stroke:black;fill:black;stroke-width:1\" />\n",
              "</g>\n",
              "      </svg>\n",
              "    "
            ]
          },
          "metadata": {}
        }
      ]
    },
    {
      "cell_type": "code",
      "source": [
        "!pip install ColabTurtlePlus"
      ],
      "metadata": {
        "id": "qDurEvEIxQMQ"
      },
      "execution_count": null,
      "outputs": []
    },
    {
      "cell_type": "code",
      "source": [
        "from ColabTurtlePlus.Turtle import *"
      ],
      "metadata": {
        "id": "57Hyf8KbzL4P"
      },
      "execution_count": null,
      "outputs": []
    },
    {
      "cell_type": "code",
      "source": [
        "clearscreen()\n",
        "\n",
        "def draw_picture(the_turtle, size):\n",
        "\n",
        "    ''' Draw a simple picture using a turtle '''\n",
        "\n",
        "    the_turtle.forward(50 * size)\n",
        "\n",
        "    the_turtle.left(315)\n",
        "\n",
        "    the_turtle.forward(50 * size)\n",
        "\n",
        "    the_turtle.left(270)\n",
        "\n",
        "    the_turtle.forward(50 * size)\n",
        "\n",
        "    the_turtle.left(315)\n",
        "\n",
        "    the_turtle.forward(50 * size)\n",
        "\n",
        "    the_turtle.left(180)\n",
        "\n",
        "    the_turtle.forward(60 * size)\n",
        "\n",
        "    the_turtle.left(315)\n",
        "\n",
        "    the_turtle.forward(55 * size)\n",
        "\n",
        "    the_turtle.left(270)\n",
        "\n",
        "    the_turtle.forward(55 * size)\n",
        "\n",
        "    the_turtle.left(315)\n",
        "\n",
        "    the_turtle.forward(60 * size)\n",
        "\n",
        "    the_turtle.left(270)\n",
        "\n",
        "    the_turtle.forward(150 * size)\n",
        "\n",
        "\n",
        "the_turtle = Turtle()      # Create a new Turtle object\n",
        "the_turtle2 = Turtle()\n",
        "the_turtle.speed(5)\n",
        "draw_picture(the_turtle, 3)\n",
        "\n",
        "the_turtle2.penup()\n",
        "the_turtle2.goto(400,0)\n",
        "the_turtle2.pendown()\n",
        "the_turtle2.speed(5)\n",
        "draw_picture(the_turtle2, 3)"
      ],
      "metadata": {
        "colab": {
          "base_uri": "https://localhost:8080/",
          "height": 621
        },
        "id": "VHw0PLjSzMBL",
        "outputId": "24922ea7-5e71-47f3-dc16-36a31e87f512"
      },
      "execution_count": 13,
      "outputs": [
        {
          "output_type": "display_data",
          "data": {
            "text/plain": [
              "<IPython.core.display.HTML object>"
            ],
            "text/html": [
              "\n",
              "      <svg width=\"800\" height=\"600\">  \n",
              "        <rect width=\"100%\" height=\"100%\" style=\"fill:white;stroke:;stroke-width:1\"/>\n",
              "        \n",
              "        \n",
              "        <line x1=\"400.0\" y1=\"300.0\" x2=\"550.0\" y2=\"300.0\" stroke-linecap=\"round\" style=\"stroke:black;stroke-width:1\" /><line x1=\"550.0\" y1=\"300.0\" x2=\"656.066\" y2=\"406.066\" stroke-linecap=\"round\" style=\"stroke:black;stroke-width:1\" /><line x1=\"656.066\" y1=\"406.066\" x2=\"550.0\" y2=\"512.132\" stroke-linecap=\"round\" style=\"stroke:black;stroke-width:1\" /><line x1=\"550.0\" y1=\"512.132\" x2=\"400.0\" y2=\"512.132\" stroke-linecap=\"round\" style=\"stroke:black;stroke-width:1\" /><line x1=\"400.0\" y1=\"512.132\" x2=\"580.0\" y2=\"512.132\" stroke-linecap=\"round\" style=\"stroke:black;stroke-width:1\" /><line x1=\"580.0\" y1=\"512.132\" x2=\"696.673\" y2=\"628.805\" stroke-linecap=\"round\" style=\"stroke:black;stroke-width:1\" /><line x1=\"696.673\" y1=\"628.805\" x2=\"580.0\" y2=\"745.478\" stroke-linecap=\"round\" style=\"stroke:black;stroke-width:1\" /><line x1=\"580.0\" y1=\"745.478\" x2=\"400.0\" y2=\"745.478\" stroke-linecap=\"round\" style=\"stroke:black;stroke-width:1\" /><line x1=\"400.0\" y1=\"745.478\" x2=\"400.0\" y2=\"295.478\" stroke-linecap=\"round\" style=\"stroke:black;stroke-width:1\" /><line x1=\"600.0\" y1=\"300.0\" x2=\"750.0\" y2=\"300.0\" stroke-linecap=\"round\" style=\"stroke:black;stroke-width:1\" /><line x1=\"750.0\" y1=\"300.0\" x2=\"856.066\" y2=\"406.066\" stroke-linecap=\"round\" style=\"stroke:black;stroke-width:1\" /><line x1=\"856.066\" y1=\"406.066\" x2=\"750.0\" y2=\"512.132\" stroke-linecap=\"round\" style=\"stroke:black;stroke-width:1\" /><line x1=\"750.0\" y1=\"512.132\" x2=\"600.0\" y2=\"512.132\" stroke-linecap=\"round\" style=\"stroke:black;stroke-width:1\" /><line x1=\"600.0\" y1=\"512.132\" x2=\"780.0\" y2=\"512.132\" stroke-linecap=\"round\" style=\"stroke:black;stroke-width:1\" /><line x1=\"780.0\" y1=\"512.132\" x2=\"896.673\" y2=\"628.805\" stroke-linecap=\"round\" style=\"stroke:black;stroke-width:1\" /><line x1=\"896.673\" y1=\"628.805\" x2=\"780.0\" y2=\"745.478\" stroke-linecap=\"round\" style=\"stroke:black;stroke-width:1\" /><line x1=\"780.0\" y1=\"745.478\" x2=\"600.0\" y2=\"745.478\" stroke-linecap=\"round\" style=\"stroke:black;stroke-width:1\" /><line x1=\"600.0\" y1=\"745.478\" x2=\"600.0\" y2=\"735.478\" stroke-linecap=\"round\" style=\"stroke:black;stroke-width:1\" /><line x1=\"600.0\" y1=\"735.478\" x2=\"600.0\" y2=\"725.478\" stroke-linecap=\"round\" style=\"stroke:black;stroke-width:1\" /><line x1=\"600.0\" y1=\"725.478\" x2=\"600.0\" y2=\"715.478\" stroke-linecap=\"round\" style=\"stroke:black;stroke-width:1\" /><line x1=\"600.0\" y1=\"715.478\" x2=\"600.0\" y2=\"705.478\" stroke-linecap=\"round\" style=\"stroke:black;stroke-width:1\" /><line x1=\"600.0\" y1=\"705.478\" x2=\"600.0\" y2=\"695.478\" stroke-linecap=\"round\" style=\"stroke:black;stroke-width:1\" /><line x1=\"600.0\" y1=\"695.478\" x2=\"600.0\" y2=\"685.478\" stroke-linecap=\"round\" style=\"stroke:black;stroke-width:1\" /><line x1=\"600.0\" y1=\"685.478\" x2=\"600.0\" y2=\"675.478\" stroke-linecap=\"round\" style=\"stroke:black;stroke-width:1\" /><line x1=\"600.0\" y1=\"675.478\" x2=\"600.0\" y2=\"665.478\" stroke-linecap=\"round\" style=\"stroke:black;stroke-width:1\" /><line x1=\"600.0\" y1=\"665.478\" x2=\"600.0\" y2=\"655.478\" stroke-linecap=\"round\" style=\"stroke:black;stroke-width:1\" /><line x1=\"600.0\" y1=\"655.478\" x2=\"600.0\" y2=\"645.478\" stroke-linecap=\"round\" style=\"stroke:black;stroke-width:1\" /><line x1=\"600.0\" y1=\"645.478\" x2=\"600.0\" y2=\"635.478\" stroke-linecap=\"round\" style=\"stroke:black;stroke-width:1\" /><line x1=\"600.0\" y1=\"635.478\" x2=\"600.0\" y2=\"625.478\" stroke-linecap=\"round\" style=\"stroke:black;stroke-width:1\" /><line x1=\"600.0\" y1=\"625.478\" x2=\"600.0\" y2=\"615.478\" stroke-linecap=\"round\" style=\"stroke:black;stroke-width:1\" /><line x1=\"600.0\" y1=\"615.478\" x2=\"600.0\" y2=\"605.478\" stroke-linecap=\"round\" style=\"stroke:black;stroke-width:1\" /><line x1=\"600.0\" y1=\"605.478\" x2=\"600.0\" y2=\"595.478\" stroke-linecap=\"round\" style=\"stroke:black;stroke-width:1\" /><line x1=\"600.0\" y1=\"595.478\" x2=\"600.0\" y2=\"585.478\" stroke-linecap=\"round\" style=\"stroke:black;stroke-width:1\" /><line x1=\"600.0\" y1=\"585.478\" x2=\"600.0\" y2=\"575.478\" stroke-linecap=\"round\" style=\"stroke:black;stroke-width:1\" /><line x1=\"600.0\" y1=\"575.478\" x2=\"600.0\" y2=\"565.478\" stroke-linecap=\"round\" style=\"stroke:black;stroke-width:1\" /><line x1=\"600.0\" y1=\"565.478\" x2=\"600.0\" y2=\"555.478\" stroke-linecap=\"round\" style=\"stroke:black;stroke-width:1\" /><line x1=\"600.0\" y1=\"555.478\" x2=\"600.0\" y2=\"545.478\" stroke-linecap=\"round\" style=\"stroke:black;stroke-width:1\" /><line x1=\"600.0\" y1=\"545.478\" x2=\"600.0\" y2=\"535.478\" stroke-linecap=\"round\" style=\"stroke:black;stroke-width:1\" /><line x1=\"600.0\" y1=\"535.478\" x2=\"600.0\" y2=\"525.478\" stroke-linecap=\"round\" style=\"stroke:black;stroke-width:1\" /><line x1=\"600.0\" y1=\"525.478\" x2=\"600.0\" y2=\"515.478\" stroke-linecap=\"round\" style=\"stroke:black;stroke-width:1\" /><line x1=\"600.0\" y1=\"515.478\" x2=\"600.0\" y2=\"505.47799999999995\" stroke-linecap=\"round\" style=\"stroke:black;stroke-width:1\" /><line x1=\"600.0\" y1=\"505.47799999999995\" x2=\"600.0\" y2=\"495.47799999999995\" stroke-linecap=\"round\" style=\"stroke:black;stroke-width:1\" /><line x1=\"600.0\" y1=\"495.47799999999995\" x2=\"600.0\" y2=\"485.47799999999995\" stroke-linecap=\"round\" style=\"stroke:black;stroke-width:1\" /><line x1=\"600.0\" y1=\"485.47799999999995\" x2=\"600.0\" y2=\"475.47799999999995\" stroke-linecap=\"round\" style=\"stroke:black;stroke-width:1\" /><line x1=\"600.0\" y1=\"475.47799999999995\" x2=\"600.0\" y2=\"465.47799999999995\" stroke-linecap=\"round\" style=\"stroke:black;stroke-width:1\" /><line x1=\"600.0\" y1=\"465.47799999999995\" x2=\"600.0\" y2=\"455.47799999999995\" stroke-linecap=\"round\" style=\"stroke:black;stroke-width:1\" /><line x1=\"600.0\" y1=\"455.47799999999995\" x2=\"600.0\" y2=\"445.47799999999995\" stroke-linecap=\"round\" style=\"stroke:black;stroke-width:1\" /><line x1=\"600.0\" y1=\"445.47799999999995\" x2=\"600.0\" y2=\"435.47799999999995\" stroke-linecap=\"round\" style=\"stroke:black;stroke-width:1\" /><line x1=\"600.0\" y1=\"435.47799999999995\" x2=\"600.0\" y2=\"425.47799999999995\" stroke-linecap=\"round\" style=\"stroke:black;stroke-width:1\" /><line x1=\"600.0\" y1=\"425.47799999999995\" x2=\"600.0\" y2=\"415.47799999999995\" stroke-linecap=\"round\" style=\"stroke:black;stroke-width:1\" /><line x1=\"600.0\" y1=\"415.47799999999995\" x2=\"600.0\" y2=\"405.47799999999995\" stroke-linecap=\"round\" style=\"stroke:black;stroke-width:1\" /><line x1=\"600.0\" y1=\"405.47799999999995\" x2=\"600.0\" y2=\"395.47799999999995\" stroke-linecap=\"round\" style=\"stroke:black;stroke-width:1\" /><line x1=\"600.0\" y1=\"395.47799999999995\" x2=\"600.0\" y2=\"385.47799999999995\" stroke-linecap=\"round\" style=\"stroke:black;stroke-width:1\" /><line x1=\"600.0\" y1=\"385.47799999999995\" x2=\"600.0\" y2=\"375.47799999999995\" stroke-linecap=\"round\" style=\"stroke:black;stroke-width:1\" /><line x1=\"600.0\" y1=\"375.47799999999995\" x2=\"600.0\" y2=\"365.47799999999995\" stroke-linecap=\"round\" style=\"stroke:black;stroke-width:1\" /><line x1=\"600.0\" y1=\"365.47799999999995\" x2=\"600.0\" y2=\"355.47799999999995\" stroke-linecap=\"round\" style=\"stroke:black;stroke-width:1\" /><line x1=\"600.0\" y1=\"355.47799999999995\" x2=\"600.0\" y2=\"345.47799999999995\" stroke-linecap=\"round\" style=\"stroke:black;stroke-width:1\" /><line x1=\"600.0\" y1=\"345.47799999999995\" x2=\"600.0\" y2=\"335.47799999999995\" stroke-linecap=\"round\" style=\"stroke:black;stroke-width:1\" /><line x1=\"600.0\" y1=\"335.47799999999995\" x2=\"600.0\" y2=\"325.47799999999995\" stroke-linecap=\"round\" style=\"stroke:black;stroke-width:1\" /><line x1=\"600.0\" y1=\"325.47799999999995\" x2=\"600.0\" y2=\"315.47799999999995\" stroke-linecap=\"round\" style=\"stroke:black;stroke-width:1\" /><line x1=\"600.0\" y1=\"315.47799999999995\" x2=\"600.0\" y2=\"305.47799999999995\" stroke-linecap=\"round\" style=\"stroke:black;stroke-width:1\" /><line x1=\"600.0\" y1=\"305.47799999999995\" x2=\"600.0\" y2=\"295.47799999999995\" stroke-linecap=\"round\" style=\"stroke:black;stroke-width:1\" />\n",
              "        \n",
              "        \n",
              "        <g id=\"classic\" visibility=\"visible\" transform=\"rotate(180,400.0,295.478) translate(400.0, 295.478)\">\n",
              "<polygon points=\"-5,-4.5 0,-2.5 5,-4.5 0,4.5\" transform=\"skewX(0) scale(1,1)\" style=\"stroke:black;fill:black;stroke-width:1\" />\n",
              "</g><g id=\"classic\" visibility=\"visible\" transform=\"rotate(180,600.0,295.47799999999995) translate(600.0, 295.47799999999995)\">\n",
              "<polygon points=\"-5,-4.5 0,-2.5 5,-4.5 0,4.5\" transform=\"skewX(0) scale(1,1)\" style=\"stroke:black;fill:black;stroke-width:1\" />\n",
              "</g>\n",
              "      </svg>\n",
              "    "
            ]
          },
          "metadata": {}
        }
      ]
    }
  ]
}