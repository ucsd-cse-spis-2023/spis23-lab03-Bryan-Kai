{
  "nbformat": 4,
  "nbformat_minor": 0,
  "metadata": {
    "colab": {
      "provenance": [],
      "authorship_tag": "ABX9TyOJUxqs5GHZ3uRnp3ZDayWZ",
      "include_colab_link": true
    },
    "kernelspec": {
      "name": "python3",
      "display_name": "Python 3"
    },
    "language_info": {
      "name": "python"
    }
  },
  "cells": [
    {
      "cell_type": "markdown",
      "metadata": {
        "id": "view-in-github",
        "colab_type": "text"
      },
      "source": [
        "<a href=\"https://colab.research.google.com/github/ucsd-cse-spis-2023/spis23-lab03-Bryan-Kai/blob/master/drawLetter_Bryan_py.ipynb\" target=\"_parent\"><img src=\"https://colab.research.google.com/assets/colab-badge.svg\" alt=\"Open In Colab\"/></a>"
      ]
    },
    {
      "cell_type": "code",
      "execution_count": null,
      "metadata": {
        "colab": {
          "base_uri": "https://localhost:8080/"
        },
        "id": "k3OsXyvHkblf",
        "outputId": "7f4b2040-551a-44b7-b456-a814950f9b0a"
      },
      "outputs": [
        {
          "output_type": "stream",
          "name": "stdout",
          "text": [
            "Collecting ColabTurtlePlus\n",
            "  Using cached ColabTurtlePlus-2.0.1-py3-none-any.whl (31 kB)\n",
            "Installing collected packages: ColabTurtlePlus\n",
            "Successfully installed ColabTurtlePlus-2.0.1\n"
          ]
        }
      ],
      "source": [
        "!pip install ColabTurtlePlus"
      ]
    },
    {
      "cell_type": "code",
      "source": [
        "from ColabTurtlePlus.Turtle import *"
      ],
      "metadata": {
        "colab": {
          "base_uri": "https://localhost:8080/"
        },
        "id": "HzrNVbmbk6q5",
        "outputId": "f2835bf1-e990-4463-d0fe-c93dfbc7a9a9"
      },
      "execution_count": null,
      "outputs": [
        {
          "output_type": "stream",
          "name": "stdout",
          "text": [
            "Put clearscreen() as the first line in a cell (after the import command) to re-run turtle commands in the cell\n"
          ]
        }
      ]
    },
    {
      "cell_type": "code",
      "source": [
        "clearscreen()\n",
        "\n",
        "def draw_picture(the_turtle):\n",
        "\n",
        "    ''' Draw a simple picture using a turtle '''\n",
        "\n",
        "    the_turtle.forward(50)\n",
        "\n",
        "    the_turtle.left(315)\n",
        "\n",
        "    the_turtle.forward(50)\n",
        "\n",
        "    the_turtle.left(270)\n",
        "\n",
        "    the_turtle.forward(50)\n",
        "\n",
        "    the_turtle.left(315)\n",
        "\n",
        "    the_turtle.forward(50)\n",
        "\n",
        "    the_turtle.left(180)\n",
        "\n",
        "    the_turtle.forward(60)\n",
        "\n",
        "    the_turtle.left(315)\n",
        "\n",
        "    the_turtle.forward(55)\n",
        "\n",
        "    the_turtle.left(270)\n",
        "\n",
        "    the_turtle.forward(55)\n",
        "\n",
        "    the_turtle.left(315)\n",
        "\n",
        "    the_turtle.forward(60)\n",
        "\n",
        "    the_turtle.left(270)\n",
        "\n",
        "    the_turtle.forward(150)\n",
        "\n",
        "\n",
        "the_turtle = Turtle()      # Create a new Turtle object\n",
        "the_turtle2 = Turtle()\n",
        "the_turtle.speed(5)\n",
        "draw_picture(the_turtle)\n",
        "\n",
        "the_turtle2.penup()\n",
        "the_turtle2.goto(200,0)\n",
        "the_turtle2.pendown()\n",
        "the_turtle2.speed(5)\n",
        "draw_picture(the_turtle2)"
      ],
      "metadata": {
        "colab": {
          "base_uri": "https://localhost:8080/",
          "height": 621
        },
        "id": "B1RieDMHk9lk",
        "outputId": "f390dba3-03a5-4189-a5e2-39cc3f22a52b"
      },
      "execution_count": 11,
      "outputs": [
        {
          "output_type": "display_data",
          "data": {
            "text/plain": [
              "<IPython.core.display.HTML object>"
            ],
            "text/html": [
              "\n",
              "      <svg width=\"800\" height=\"600\">  \n",
              "        <rect width=\"100%\" height=\"100%\" style=\"fill:white;stroke:;stroke-width:1\"/>\n",
              "        \n",
              "        \n",
              "        <line x1=\"400.0\" y1=\"300.0\" x2=\"450.0\" y2=\"300.0\" stroke-linecap=\"round\" style=\"stroke:black;stroke-width:1\" /><line x1=\"450.0\" y1=\"300.0\" x2=\"485.355\" y2=\"335.355\" stroke-linecap=\"round\" style=\"stroke:black;stroke-width:1\" /><line x1=\"485.355\" y1=\"335.355\" x2=\"450.0\" y2=\"370.71\" stroke-linecap=\"round\" style=\"stroke:black;stroke-width:1\" /><line x1=\"450.0\" y1=\"370.71\" x2=\"400.0\" y2=\"370.71\" stroke-linecap=\"round\" style=\"stroke:black;stroke-width:1\" /><line x1=\"400.0\" y1=\"370.71\" x2=\"460.0\" y2=\"370.71\" stroke-linecap=\"round\" style=\"stroke:black;stroke-width:1\" /><line x1=\"460.0\" y1=\"370.71\" x2=\"498.891\" y2=\"409.601\" stroke-linecap=\"round\" style=\"stroke:black;stroke-width:1\" /><line x1=\"498.891\" y1=\"409.601\" x2=\"460.0\" y2=\"448.492\" stroke-linecap=\"round\" style=\"stroke:black;stroke-width:1\" /><line x1=\"460.0\" y1=\"448.492\" x2=\"400.0\" y2=\"448.492\" stroke-linecap=\"round\" style=\"stroke:black;stroke-width:1\" /><line x1=\"400.0\" y1=\"448.492\" x2=\"400.0\" y2=\"298.492\" stroke-linecap=\"round\" style=\"stroke:black;stroke-width:1\" /><line x1=\"600.0\" y1=\"300.0\" x2=\"650.0\" y2=\"300.0\" stroke-linecap=\"round\" style=\"stroke:black;stroke-width:1\" /><line x1=\"650.0\" y1=\"300.0\" x2=\"685.355\" y2=\"335.355\" stroke-linecap=\"round\" style=\"stroke:black;stroke-width:1\" /><line x1=\"685.355\" y1=\"335.355\" x2=\"650.0\" y2=\"370.71\" stroke-linecap=\"round\" style=\"stroke:black;stroke-width:1\" /><line x1=\"650.0\" y1=\"370.71\" x2=\"600.0\" y2=\"370.71\" stroke-linecap=\"round\" style=\"stroke:black;stroke-width:1\" /><line x1=\"600.0\" y1=\"370.71\" x2=\"660.0\" y2=\"370.71\" stroke-linecap=\"round\" style=\"stroke:black;stroke-width:1\" /><line x1=\"660.0\" y1=\"370.71\" x2=\"698.891\" y2=\"409.601\" stroke-linecap=\"round\" style=\"stroke:black;stroke-width:1\" /><line x1=\"698.891\" y1=\"409.601\" x2=\"660.0\" y2=\"448.492\" stroke-linecap=\"round\" style=\"stroke:black;stroke-width:1\" /><line x1=\"660.0\" y1=\"448.492\" x2=\"600.0\" y2=\"448.492\" stroke-linecap=\"round\" style=\"stroke:black;stroke-width:1\" /><line x1=\"600.0\" y1=\"448.492\" x2=\"600.0\" y2=\"438.492\" stroke-linecap=\"round\" style=\"stroke:black;stroke-width:1\" /><line x1=\"600.0\" y1=\"438.492\" x2=\"600.0\" y2=\"428.492\" stroke-linecap=\"round\" style=\"stroke:black;stroke-width:1\" /><line x1=\"600.0\" y1=\"428.492\" x2=\"600.0\" y2=\"418.492\" stroke-linecap=\"round\" style=\"stroke:black;stroke-width:1\" /><line x1=\"600.0\" y1=\"418.492\" x2=\"600.0\" y2=\"408.492\" stroke-linecap=\"round\" style=\"stroke:black;stroke-width:1\" /><line x1=\"600.0\" y1=\"408.492\" x2=\"600.0\" y2=\"398.492\" stroke-linecap=\"round\" style=\"stroke:black;stroke-width:1\" /><line x1=\"600.0\" y1=\"398.492\" x2=\"600.0\" y2=\"388.492\" stroke-linecap=\"round\" style=\"stroke:black;stroke-width:1\" /><line x1=\"600.0\" y1=\"388.492\" x2=\"600.0\" y2=\"378.492\" stroke-linecap=\"round\" style=\"stroke:black;stroke-width:1\" /><line x1=\"600.0\" y1=\"378.492\" x2=\"600.0\" y2=\"368.492\" stroke-linecap=\"round\" style=\"stroke:black;stroke-width:1\" /><line x1=\"600.0\" y1=\"368.492\" x2=\"600.0\" y2=\"358.492\" stroke-linecap=\"round\" style=\"stroke:black;stroke-width:1\" /><line x1=\"600.0\" y1=\"358.492\" x2=\"600.0\" y2=\"348.492\" stroke-linecap=\"round\" style=\"stroke:black;stroke-width:1\" /><line x1=\"600.0\" y1=\"348.492\" x2=\"600.0\" y2=\"338.492\" stroke-linecap=\"round\" style=\"stroke:black;stroke-width:1\" /><line x1=\"600.0\" y1=\"338.492\" x2=\"600.0\" y2=\"328.492\" stroke-linecap=\"round\" style=\"stroke:black;stroke-width:1\" /><line x1=\"600.0\" y1=\"328.492\" x2=\"600.0\" y2=\"318.492\" stroke-linecap=\"round\" style=\"stroke:black;stroke-width:1\" /><line x1=\"600.0\" y1=\"318.492\" x2=\"600.0\" y2=\"308.492\" stroke-linecap=\"round\" style=\"stroke:black;stroke-width:1\" /><line x1=\"600.0\" y1=\"308.492\" x2=\"600.0\" y2=\"298.492\" stroke-linecap=\"round\" style=\"stroke:black;stroke-width:1\" />\n",
              "        \n",
              "        \n",
              "        <g id=\"classic\" visibility=\"visible\" transform=\"rotate(180,400.0,298.492) translate(400.0, 298.492)\">\n",
              "<polygon points=\"-5,-4.5 0,-2.5 5,-4.5 0,4.5\" transform=\"skewX(0) scale(1,1)\" style=\"stroke:black;fill:black;stroke-width:1\" />\n",
              "</g><g id=\"classic\" visibility=\"visible\" transform=\"rotate(180,600.0,298.492) translate(600.0, 298.492)\">\n",
              "<polygon points=\"-5,-4.5 0,-2.5 5,-4.5 0,4.5\" transform=\"skewX(0) scale(1,1)\" style=\"stroke:black;fill:black;stroke-width:1\" />\n",
              "</g>\n",
              "      </svg>\n",
              "    "
            ]
          },
          "metadata": {}
        }
      ]
    }
  ]
}