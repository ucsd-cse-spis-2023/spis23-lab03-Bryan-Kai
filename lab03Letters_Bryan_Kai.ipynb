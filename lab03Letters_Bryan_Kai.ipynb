{
  "nbformat": 4,
  "nbformat_minor": 0,
  "metadata": {
    "colab": {
      "provenance": [],
      "authorship_tag": "ABX9TyOPplhFpcrisDg4ws2cixhN",
      "include_colab_link": true
    },
    "kernelspec": {
      "name": "python3",
      "display_name": "Python 3"
    },
    "language_info": {
      "name": "python"
    }
  },
  "cells": [
    {
      "cell_type": "markdown",
      "metadata": {
        "id": "view-in-github",
        "colab_type": "text"
      },
      "source": [
        "<a href=\"https://colab.research.google.com/github/ucsd-cse-spis-2023/spis23-lab03-Bryan-Kai/blob/master/lab03Letters_Bryan_Kai.ipynb\" target=\"_parent\"><img src=\"https://colab.research.google.com/assets/colab-badge.svg\" alt=\"Open In Colab\"/></a>"
      ]
    },
    {
      "cell_type": "code",
      "execution_count": null,
      "metadata": {
        "id": "y0H1p_uuxMEX"
      },
      "outputs": [],
      "source": [
        "# The anonymous turtle is the first turtle object that was created in the program"
      ]
    },
    {
      "cell_type": "code",
      "source": [
        "!pip install ColabTurtlePlus"
      ],
      "metadata": {
        "colab": {
          "base_uri": "https://localhost:8080/"
        },
        "id": "eaIu-tn4zMpd",
        "outputId": "dd2aefea-5416-41aa-aab6-bf643742420c"
      },
      "execution_count": null,
      "outputs": [
        {
          "output_type": "stream",
          "name": "stdout",
          "text": [
            "Collecting ColabTurtlePlus\n",
            "  Downloading ColabTurtlePlus-2.0.1-py3-none-any.whl (31 kB)\n",
            "Installing collected packages: ColabTurtlePlus\n",
            "Successfully installed ColabTurtlePlus-2.0.1\n"
          ]
        }
      ]
    },
    {
      "cell_type": "code",
      "source": [
        "from ColabTurtlePlus.Turtle import *"
      ],
      "metadata": {
        "colab": {
          "base_uri": "https://localhost:8080/"
        },
        "id": "pPBb7efkzRie",
        "outputId": "4e4f79ce-d321-4473-e805-e209ebd12ade"
      },
      "execution_count": null,
      "outputs": [
        {
          "output_type": "stream",
          "name": "stdout",
          "text": [
            "Put clearscreen() as the first line in a cell (after the import command) to re-run turtle commands in the cell\n"
          ]
        }
      ]
    },
    {
      "cell_type": "code",
      "source": [
        "# part 1.2 complete\n",
        "clearscreen()\n",
        "\n",
        "# creating function\n",
        "def draw_K(my_turtle, size):\n",
        "  my_turtle.right(90)\n",
        "  my_turtle.forward(100 * size)\n",
        "  my_turtle.backward(50 * size)\n",
        "  my_turtle.left(45)\n",
        "  my_turtle.forward(70 * size)\n",
        "  my_turtle.backward(70 * size)\n",
        "  my_turtle.left(90)\n",
        "  my_turtle.forward(70 * size)\n",
        "  my_turtle.backward(70 * size)\n",
        "  my_turtle.left(45)\n",
        "  my_turtle.forward(50 * size)\n",
        "\n",
        "# spawning turtle\n",
        "my_turtle1 = Turtle()\n",
        "my_turtle2 = Turtle()\n",
        "\n",
        "# turtle1 movement\n",
        "my_turtle1.speed(5)\n",
        "draw_K(my_turtle1, 3)\n",
        "\n",
        "# turtle2 movement\n",
        "my_turtle2.penup()\n",
        "my_turtle2.goto(200,0)\n",
        "my_turtle2.pendown()\n",
        "my_turtle2.speed(5)\n",
        "draw_K(my_turtle2, 3)\n",
        "\n"
      ],
      "metadata": {
        "colab": {
          "base_uri": "https://localhost:8080/",
          "height": 621
        },
        "id": "loM9UPWizJVf",
        "outputId": "2299adb4-b242-44e0-8fad-a7d232b6d33b"
      },
      "execution_count": null,
      "outputs": [
        {
          "output_type": "display_data",
          "data": {
            "text/plain": [
              "<IPython.core.display.HTML object>"
            ],
            "text/html": [
              "\n",
              "      <svg width=\"800\" height=\"600\">  \n",
              "        <rect width=\"100%\" height=\"100%\" style=\"fill:white;stroke:;stroke-width:1\"/>\n",
              "        \n",
              "        \n",
              "        <line x1=\"400.0\" y1=\"300.0\" x2=\"400.0\" y2=\"600.0\" stroke-linecap=\"round\" style=\"stroke:black;stroke-width:1\" /><line x1=\"400.0\" y1=\"600.0\" x2=\"400.0\" y2=\"450.0\" stroke-linecap=\"round\" style=\"stroke:black;stroke-width:1\" /><line x1=\"400.0\" y1=\"450.0\" x2=\"548.492\" y2=\"598.492\" stroke-linecap=\"round\" style=\"stroke:black;stroke-width:1\" /><line x1=\"548.492\" y1=\"598.492\" x2=\"400.0\" y2=\"450.0\" stroke-linecap=\"round\" style=\"stroke:black;stroke-width:1\" /><line x1=\"400.0\" y1=\"450.0\" x2=\"548.492\" y2=\"301.508\" stroke-linecap=\"round\" style=\"stroke:black;stroke-width:1\" /><line x1=\"548.492\" y1=\"301.508\" x2=\"400.0\" y2=\"450.0\" stroke-linecap=\"round\" style=\"stroke:black;stroke-width:1\" /><line x1=\"400.0\" y1=\"450.0\" x2=\"400.0\" y2=\"300.0\" stroke-linecap=\"round\" style=\"stroke:black;stroke-width:1\" /><line x1=\"600.0\" y1=\"300.0\" x2=\"600.0\" y2=\"600.0\" stroke-linecap=\"round\" style=\"stroke:black;stroke-width:1\" /><line x1=\"600.0\" y1=\"600.0\" x2=\"600.0\" y2=\"450.0\" stroke-linecap=\"round\" style=\"stroke:black;stroke-width:1\" /><line x1=\"600.0\" y1=\"450.0\" x2=\"748.492\" y2=\"598.492\" stroke-linecap=\"round\" style=\"stroke:black;stroke-width:1\" /><line x1=\"748.492\" y1=\"598.492\" x2=\"600.0\" y2=\"450.0\" stroke-linecap=\"round\" style=\"stroke:black;stroke-width:1\" /><line x1=\"600.0\" y1=\"450.0\" x2=\"748.492\" y2=\"301.508\" stroke-linecap=\"round\" style=\"stroke:black;stroke-width:1\" /><line x1=\"748.492\" y1=\"301.508\" x2=\"600.0\" y2=\"450.0\" stroke-linecap=\"round\" style=\"stroke:black;stroke-width:1\" /><line x1=\"600.0\" y1=\"450.0\" x2=\"600.0\" y2=\"440.0\" stroke-linecap=\"round\" style=\"stroke:black;stroke-width:1\" /><line x1=\"600.0\" y1=\"440.0\" x2=\"600.0\" y2=\"430.0\" stroke-linecap=\"round\" style=\"stroke:black;stroke-width:1\" /><line x1=\"600.0\" y1=\"430.0\" x2=\"600.0\" y2=\"420.0\" stroke-linecap=\"round\" style=\"stroke:black;stroke-width:1\" /><line x1=\"600.0\" y1=\"420.0\" x2=\"600.0\" y2=\"410.0\" stroke-linecap=\"round\" style=\"stroke:black;stroke-width:1\" /><line x1=\"600.0\" y1=\"410.0\" x2=\"600.0\" y2=\"400.0\" stroke-linecap=\"round\" style=\"stroke:black;stroke-width:1\" /><line x1=\"600.0\" y1=\"400.0\" x2=\"600.0\" y2=\"390.0\" stroke-linecap=\"round\" style=\"stroke:black;stroke-width:1\" /><line x1=\"600.0\" y1=\"390.0\" x2=\"600.0\" y2=\"380.0\" stroke-linecap=\"round\" style=\"stroke:black;stroke-width:1\" /><line x1=\"600.0\" y1=\"380.0\" x2=\"600.0\" y2=\"370.0\" stroke-linecap=\"round\" style=\"stroke:black;stroke-width:1\" /><line x1=\"600.0\" y1=\"370.0\" x2=\"600.0\" y2=\"360.0\" stroke-linecap=\"round\" style=\"stroke:black;stroke-width:1\" /><line x1=\"600.0\" y1=\"360.0\" x2=\"600.0\" y2=\"350.0\" stroke-linecap=\"round\" style=\"stroke:black;stroke-width:1\" /><line x1=\"600.0\" y1=\"350.0\" x2=\"600.0\" y2=\"340.0\" stroke-linecap=\"round\" style=\"stroke:black;stroke-width:1\" /><line x1=\"600.0\" y1=\"340.0\" x2=\"600.0\" y2=\"330.0\" stroke-linecap=\"round\" style=\"stroke:black;stroke-width:1\" /><line x1=\"600.0\" y1=\"330.0\" x2=\"600.0\" y2=\"320.0\" stroke-linecap=\"round\" style=\"stroke:black;stroke-width:1\" /><line x1=\"600.0\" y1=\"320.0\" x2=\"600.0\" y2=\"310.0\" stroke-linecap=\"round\" style=\"stroke:black;stroke-width:1\" /><line x1=\"600.0\" y1=\"310.0\" x2=\"600.0\" y2=\"300.0\" stroke-linecap=\"round\" style=\"stroke:black;stroke-width:1\" />\n",
              "        \n",
              "        \n",
              "        <g id=\"classic\" visibility=\"visible\" transform=\"rotate(180,400.0,300.0) translate(400.0, 300.0)\">\n",
              "<polygon points=\"-5,-4.5 0,-2.5 5,-4.5 0,4.5\" transform=\"skewX(0) scale(1,1)\" style=\"stroke:black;fill:black;stroke-width:1\" />\n",
              "</g><g id=\"classic\" visibility=\"visible\" transform=\"rotate(180,600.0,300.0) translate(600.0, 300.0)\">\n",
              "<polygon points=\"-5,-4.5 0,-2.5 5,-4.5 0,4.5\" transform=\"skewX(0) scale(1,1)\" style=\"stroke:black;fill:black;stroke-width:1\" />\n",
              "</g>\n",
              "      </svg>\n",
              "    "
            ]
          },
          "metadata": {}
        }
      ]
    }
  ]
}